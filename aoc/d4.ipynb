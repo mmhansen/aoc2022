{
 "cells": [
  {
   "cell_type": "code",
   "execution_count": 1,
   "metadata": {},
   "outputs": [],
   "source": [
    "test_input = \"\"\"\n",
    "2-4,6-8\n",
    "2-3,4-5\n",
    "5-7,7-9\n",
    "2-8,3-7\n",
    "6-6,4-6\n",
    "2-6,4-8\n",
    "\"\"\""
   ]
  },
  {
   "cell_type": "code",
   "execution_count": 3,
   "metadata": {},
   "outputs": [
    {
     "data": {
      "text/plain": [
       "[((2, 4), (6, 8)),\n",
       " ((2, 3), (4, 5)),\n",
       " ((5, 7), (7, 9)),\n",
       " ((2, 8), (3, 7)),\n",
       " ((6, 6), (4, 6)),\n",
       " ((2, 6), (4, 8))]"
      ]
     },
     "execution_count": 3,
     "metadata": {},
     "output_type": "execute_result"
    }
   ],
   "source": [
    "\n",
    "def lohi(x):\n",
    "    v1, v2 = x.split(\"-\")\n",
    "    return int(v1), int(v2)\n",
    "\n",
    "def parse_p1(x):\n",
    "    lns = x.strip().split(\"\\n\")\n",
    "    out = []\n",
    "    for ln in lns:\n",
    "        e1, e2 = ln.split(\",\")\n",
    "        out.append((\n",
    "            lohi(e1), lohi(e2)\n",
    "        ))\n",
    "\n",
    "    return out\n",
    "\n",
    "parse_p1(test_input)"
   ]
  },
  {
   "cell_type": "code",
   "execution_count": 4,
   "metadata": {},
   "outputs": [
    {
     "data": {
      "text/plain": [
       "2"
      ]
     },
     "execution_count": 4,
     "metadata": {},
     "output_type": "execute_result"
    }
   ],
   "source": [
    "def x_contains_y(x, y):\n",
    "    return x[0] <= y[0] and x[1] >= y[1]\n",
    "\n",
    "def solve_p1(z):\n",
    "    cnt = 0\n",
    "    for x, y in z:\n",
    "        if x_contains_y(x, y) or x_contains_y(y, x):\n",
    "            cnt += 1\n",
    "    return cnt\n",
    "\n",
    "\n",
    "solve_p1(parse_p1(test_input))"
   ]
  },
  {
   "cell_type": "code",
   "execution_count": 5,
   "metadata": {},
   "outputs": [
    {
     "data": {
      "text/plain": [
       "448"
      ]
     },
     "execution_count": 5,
     "metadata": {},
     "output_type": "execute_result"
    }
   ],
   "source": [
    "def loads(day):\n",
    "    with open(f\"/home/mhansen/lopts/aoc2022/inputs/d{day}.txt\", 'r', encoding='utf-8') as f:\n",
    "        return f.read().strip()\n",
    "\n",
    "\n",
    "solve_p1(parse_p1(loads(4)))"
   ]
  },
  {
   "cell_type": "code",
   "execution_count": 8,
   "metadata": {},
   "outputs": [
    {
     "data": {
      "text/plain": [
       "4"
      ]
     },
     "execution_count": 8,
     "metadata": {},
     "output_type": "execute_result"
    }
   ],
   "source": [
    "def x_overlaps_y(x, y):\n",
    "    return x[0] <= y[0] and x[1] >= y[0]\n",
    "\n",
    "def solve_p2(z):\n",
    "    cnt = 0\n",
    "    for x, y in z:\n",
    "        if x_overlaps_y(x, y) or x_overlaps_y(y, x):\n",
    "            cnt += 1\n",
    "    return cnt\n",
    "\n",
    "\n",
    "solve_p2(parse_p1(test_input))"
   ]
  },
  {
   "cell_type": "code",
   "execution_count": 9,
   "metadata": {},
   "outputs": [
    {
     "data": {
      "text/plain": [
       "794"
      ]
     },
     "execution_count": 9,
     "metadata": {},
     "output_type": "execute_result"
    }
   ],
   "source": [
    "\n",
    "solve_p2(parse_p1(loads(4)))"
   ]
  },
  {
   "cell_type": "code",
   "execution_count": null,
   "metadata": {},
   "outputs": [],
   "source": []
  }
 ],
 "metadata": {
  "kernelspec": {
   "display_name": "Python 3.8.10 64-bit",
   "language": "python",
   "name": "python3"
  },
  "language_info": {
   "codemirror_mode": {
    "name": "ipython",
    "version": 3
   },
   "file_extension": ".py",
   "mimetype": "text/x-python",
   "name": "python",
   "nbconvert_exporter": "python",
   "pygments_lexer": "ipython3",
   "version": "3.8.10"
  },
  "orig_nbformat": 4,
  "vscode": {
   "interpreter": {
    "hash": "31f2aee4e71d21fbe5cf8b01ff0e069b9275f58929596ceb00d14d90e3e16cd6"
   }
  }
 },
 "nbformat": 4,
 "nbformat_minor": 2
}
